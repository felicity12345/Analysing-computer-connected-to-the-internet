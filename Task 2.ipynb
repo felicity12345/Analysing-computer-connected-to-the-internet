{
 "cells": [
  {
   "cell_type": "code",
   "execution_count": 6,
   "id": "43e8c711",
   "metadata": {},
   "outputs": [
    {
     "name": "stdout",
     "output_type": "stream",
     "text": [
      "Processes runing in this computer is 262\n",
      "CPU usage is  currently 7.3% \n",
      "\n",
      "processes runing in this computer is 262 after 20 seconds \n",
      "CPU usage is currently 3.1%  after 20 seconds \n",
      "\n",
      "The number of the processes runing in this computer remain thesame 0Processes runing in this computer remain thesame\n",
      "System Idle Processis using 544.3% of the CPU \n",
      "\n",
      "msedge.exeis using 3.1% of the CPU \n",
      "\n",
      "services.exeis using 1.3% of the CPU \n",
      "\n",
      "dwm.exeis using 5.0% of the CPU \n",
      "\n",
      "msedge.exeis using 2.2% of the CPU \n",
      "\n",
      "WTabletServicePro.exeis using 1.2% of the CPU \n",
      "\n",
      "msedgewebview2.exeis using 2.5% of the CPU \n",
      "\n",
      "msedgewebview2.exeis using 6.2% of the CPU \n",
      "\n",
      "python.exeis using 19.7% of the CPU \n",
      "\n",
      "msedge.exeis using 4.8% of the CPU \n",
      "\n"
     ]
    }
   ],
   "source": [
    "#MONITORING THE PROCESS RUNING ON A COMPUTER\n",
    "\n",
    "import psutil\n",
    "import time\n",
    "\n",
    "\n",
    "usage1 = psutil.cpu_percent(1,False)\n",
    "pids1 = psutil.pids()\n",
    "\n",
    "print(\"Processes runing in this computer is \" + str(len(pids1)))\n",
    "print(\"CPU usage is  currently \" + str(usage1) + \"% \\n\")\n",
    "\n",
    "\n",
    "#AFTER 20 SECONDS\n",
    "\n",
    "time.sleep(20)\n",
    "usage2 = psutil.cpu_percent(1,False)\n",
    "pids2 = psutil.pids()\n",
    "print(\"processes runing in this computer is \" + str(len(pids2)) + \" after 20 seconds \")\n",
    "print(\"CPU usage is currently \" + str(usage2) + \"% \" + \" after 20 seconds \\n\")\n",
    "\n",
    "\n",
    "#USING IF STATEMENT\n",
    "\n",
    "if len(pids1)>len(pids2):\n",
    "    \n",
    "    print(\"The number of the processes runing in this computer have increased  by \" + str(len(pids2) - len(pids1)) + \" Processes runing in this computer have increased\")\n",
    "\n",
    "elif len(pids1)==len(pids2):\n",
    "    \n",
    "        print(\"The number of the processes runing in this computer remain thesame \" + str(len(pids2) - len(pids1)) + \"Processes runing in this computer remain thesame\")\n",
    "\n",
    "else:\n",
    "    print(\"Processes runing in this computer has increased \\n\")\n",
    "    \n",
    "if usage1> 0.1 + usage2:\n",
    "    for process in psutil.process_iter():\n",
    "        p = process.as_dict()\n",
    "        if p[\"cpu_percent\"] >=1:\n",
    "            print(str(p[\"name\"]) + \"is using \" + str(p[\"cpu_percent\"]) + \"% of the CPU \\n\")\n",
    "            \n",
    "\n",
    "else:\n",
    "    print(\"The CPU usage has not rise by 10%\")\n",
    "    \n",
    "  \n",
    "\n",
    "\n",
    "\n",
    "      \n",
    "      \n",
    "\n"
   ]
  },
  {
   "cell_type": "code",
   "execution_count": null,
   "id": "06d602fc",
   "metadata": {},
   "outputs": [],
   "source": []
  },
  {
   "cell_type": "code",
   "execution_count": null,
   "id": "271b3a92",
   "metadata": {},
   "outputs": [],
   "source": []
  }
 ],
 "metadata": {
  "kernelspec": {
   "display_name": "Python 3 (ipykernel)",
   "language": "python",
   "name": "python3"
  },
  "language_info": {
   "codemirror_mode": {
    "name": "ipython",
    "version": 3
   },
   "file_extension": ".py",
   "mimetype": "text/x-python",
   "name": "python",
   "nbconvert_exporter": "python",
   "pygments_lexer": "ipython3",
   "version": "3.9.12"
  }
 },
 "nbformat": 4,
 "nbformat_minor": 5
}
